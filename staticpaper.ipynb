{
    "cells": [
        {
            "cell_type": "code",
            "execution_count": 1,
            "source": [
                "from sklearn.cluster import KMeans\r\n",
                "import pandas as pd\r\n",
                "from sklearn.preprocessing import MinMaxScaler\r\n",
                "from matplotlib import pyplot as plt\r\n",
                "%matplotlib inline"
            ],
            "outputs": [],
            "metadata": {}
        },
        {
            "cell_type": "code",
            "execution_count": 2,
            "source": [
                "df = pd.read_csv(\"file.csv\")\r\n",
                "df.head()"
            ],
            "outputs": [
                {
                    "output_type": "execute_result",
                    "data": {
                        "text/plain": [
                            "   Answer_Type  Topic_Number  Variation  Difficulty_Level\n",
                            "0            1         30102        105                 3\n",
                            "1            1         30102        105                 3\n",
                            "2            1         30102        105                 3\n",
                            "3            1         30102        105                 3\n",
                            "4            1         30102        105                 3"
                        ],
                        "text/html": [
                            "<div>\n",
                            "<style scoped>\n",
                            "    .dataframe tbody tr th:only-of-type {\n",
                            "        vertical-align: middle;\n",
                            "    }\n",
                            "\n",
                            "    .dataframe tbody tr th {\n",
                            "        vertical-align: top;\n",
                            "    }\n",
                            "\n",
                            "    .dataframe thead th {\n",
                            "        text-align: right;\n",
                            "    }\n",
                            "</style>\n",
                            "<table border=\"1\" class=\"dataframe\">\n",
                            "  <thead>\n",
                            "    <tr style=\"text-align: right;\">\n",
                            "      <th></th>\n",
                            "      <th>Answer_Type</th>\n",
                            "      <th>Topic_Number</th>\n",
                            "      <th>Variation</th>\n",
                            "      <th>Difficulty_Level</th>\n",
                            "    </tr>\n",
                            "  </thead>\n",
                            "  <tbody>\n",
                            "    <tr>\n",
                            "      <th>0</th>\n",
                            "      <td>1</td>\n",
                            "      <td>30102</td>\n",
                            "      <td>105</td>\n",
                            "      <td>3</td>\n",
                            "    </tr>\n",
                            "    <tr>\n",
                            "      <th>1</th>\n",
                            "      <td>1</td>\n",
                            "      <td>30102</td>\n",
                            "      <td>105</td>\n",
                            "      <td>3</td>\n",
                            "    </tr>\n",
                            "    <tr>\n",
                            "      <th>2</th>\n",
                            "      <td>1</td>\n",
                            "      <td>30102</td>\n",
                            "      <td>105</td>\n",
                            "      <td>3</td>\n",
                            "    </tr>\n",
                            "    <tr>\n",
                            "      <th>3</th>\n",
                            "      <td>1</td>\n",
                            "      <td>30102</td>\n",
                            "      <td>105</td>\n",
                            "      <td>3</td>\n",
                            "    </tr>\n",
                            "    <tr>\n",
                            "      <th>4</th>\n",
                            "      <td>1</td>\n",
                            "      <td>30102</td>\n",
                            "      <td>105</td>\n",
                            "      <td>3</td>\n",
                            "    </tr>\n",
                            "  </tbody>\n",
                            "</table>\n",
                            "</div>"
                        ]
                    },
                    "metadata": {},
                    "execution_count": 2
                }
            ],
            "metadata": {}
        },
        {
            "cell_type": "code",
            "execution_count": 3,
            "source": [
                "from csv import DictReader\r\n",
                "\r\n",
                "def recmques(d):\r\n",
                "  with open('file.csv', 'r') as read_obj:\r\n",
                "      csv_dict_reader = DictReader(read_obj)\r\n",
                "      for row in csv_dict_reader:\r\n",
                "          if row['Difficulty_Level']==str(d):\r\n",
                "            return row['Topic_Number'],row['Variation']\r\n",
                "for i in range(0,4):\r\n",
                "  print(recmques(3))\r\n",
                "for i in range(0,3):\r\n",
                "  print(recmques(2))\r\n",
                "for i in range(0,3):\r\n",
                "  print(recmques(1))"
            ],
            "outputs": [
                {
                    "output_type": "stream",
                    "name": "stdout",
                    "text": [
                        "('30102', '105')\n",
                        "('30102', '105')\n",
                        "('30102', '105')\n",
                        "('30102', '105')\n",
                        "('30102', '104')\n",
                        "('30102', '104')\n",
                        "('30102', '104')\n",
                        "('30102', '101')\n",
                        "('30102', '101')\n",
                        "('30102', '101')\n"
                    ]
                }
            ],
            "metadata": {}
        },
        {
            "cell_type": "code",
            "execution_count": 20,
            "source": [
                "import mysql.connector\r\n",
                "\r\n",
                "try:\r\n",
                "    connection = mysql.connector.connect(host='127.0.0.2',\r\n",
                "                                         database='coep',\r\n",
                "                                         user='root',\r\n",
                "                                         password='root')\r\n",
                "\r\n",
                "    sql_select_Query = \"select * from studentperformance\"\r\n",
                "    cursor = connection.cursor()\r\n",
                "    cursor.execute(sql_select_Query)\r\n",
                "    # get all records\r\n",
                "    records = cursor.fetchall()\r\n",
                "    print(\"Total number of rows in table: \", cursor.rowcount)\r\n",
                "\r\n",
                "    print(\"\\nPrinting each row\")\r\n",
                "    for row in records:\r\n",
                "        print(\"SID = \", row[0], )\r\n",
                "        print(\"topicnumber = \", row[1])\r\n",
                "        print(\"variation  = \", row[2])\r\n",
                "        print(\"DOD  = \", row[3])\r\n",
                "        print(\"answer  = \", row[4])\r\n",
                "        print(\"timetaken  = \", row[5], \"\\n\")\r\n",
                "\r\n",
                "except mysql.connector.Error as e:\r\n",
                "    print(\"Error reading data from MySQL table\", e)\r\n",
                "finally:\r\n",
                "    if connection.is_connected():\r\n",
                "        connection.close()\r\n",
                "        cursor.close()\r\n",
                "        print(\"MySQL connection is closed\")\r\n"
            ],
            "outputs": [
                {
                    "output_type": "stream",
                    "name": "stdout",
                    "text": [
                        "Total number of rows in table:  1\n",
                        "\n",
                        "Printing each row\n",
                        "SID =  1\n",
                        "topicnumber =  301\n",
                        "variation  =  101\n",
                        "DOD  =  3\n",
                        "answer  =  1\n",
                        "timetaken  =  60 \n",
                        "\n",
                        "MySQL connection is closed\n"
                    ]
                }
            ],
            "metadata": {}
        }
    ],
    "metadata": {
        "orig_nbformat": 4,
        "language_info": {
            "name": "python",
            "version": "3.9.2",
            "mimetype": "text/x-python",
            "codemirror_mode": {
                "name": "ipython",
                "version": 3
            },
            "pygments_lexer": "ipython3",
            "nbconvert_exporter": "python",
            "file_extension": ".py"
        },
        "kernelspec": {
            "name": "python3",
            "display_name": "Python 3.9.2 64-bit"
        },
        "interpreter": {
            "hash": "9406794407e1c181eeb778604b70cd8f437e0b1ded5c1939509463ab3e3b31e4"
        }
    },
    "nbformat": 4,
    "nbformat_minor": 2
}